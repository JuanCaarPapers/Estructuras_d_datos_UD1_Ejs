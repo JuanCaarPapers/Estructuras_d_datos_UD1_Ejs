{
 "cells": [
  {
   "cell_type": "code",
   "execution_count": 17,
   "id": "initial_id",
   "metadata": {
    "collapsed": true,
    "ExecuteTime": {
     "end_time": "2023-09-28T11:14:08.168251Z",
     "start_time": "2023-09-28T11:14:04.019100Z"
    }
   },
   "outputs": [
    {
     "data": {
      "text/plain": "6"
     },
     "execution_count": 17,
     "metadata": {},
     "output_type": "execute_result"
    }
   ],
   "source": [
    "#Suma de enteros \n",
    "def suma_ints():\n",
    "    a,b = eval(input('introduzca dos numeros de la forma a,b'))\n",
    "    a = int(a)\n",
    "    b = int(b)\n",
    "    return a + b        \n",
    "\n",
    "'''#Forma Pro\n",
    "def suma_ints(a, b):\n",
    " \n",
    "    if not isinstance(a, int):\n",
    "        raise TypeError(f'a debe ser un entero, pero es {type(a)}')\n",
    "    if not isinstance(b, int):\n",
    "        raise TypeError(f'b debe ser un entero, pero es {type(b)}')\n",
    "\n",
    "    return a + b'''\n",
    "\n",
    "suma_ints()"
   ]
  },
  {
   "cell_type": "code",
   "execution_count": 19,
   "outputs": [
    {
     "data": {
      "text/plain": "20.66115702479339"
     },
     "execution_count": 19,
     "metadata": {},
     "output_type": "execute_result"
    }
   ],
   "source": [
    "#Calculadora bmi, se pide al usuario kg y m\n",
    "def bmi():\n",
    "    kg, m = eval(input('introduzca su peso en kg y su altura en m separados por una coma'))\n",
    "    return kg / m**2\n",
    "bmi()"
   ],
   "metadata": {
    "collapsed": false,
    "ExecuteTime": {
     "end_time": "2023-09-28T11:14:32.157805Z",
     "start_time": "2023-09-28T11:14:15.072221Z"
    }
   },
   "id": "a60c99c3babc6b49"
  },
  {
   "cell_type": "code",
   "execution_count": 20,
   "outputs": [
    {
     "name": "stdout",
     "output_type": "stream",
     "text": [
      "la longitud de la cadena es 4, el 1er carácter es h y el ultimo es a,la cadena en mayúsculas es HOLA\n"
     ]
    }
   ],
   "source": [
    "#Cadena de caracteres\n",
    "def cadena(cadena = input('introduzca una cadena de caracteres')):\n",
    "    longitud = len(cadena)\n",
    "    print(f'la longitud de la cadena es {longitud}, el 1er carácter es {cadena[0]} y el ultimo es {cadena[-1]},la cadena en mayúsculas es {cadena.upper()}')\n",
    "cadena()"
   ],
   "metadata": {
    "collapsed": false,
    "ExecuteTime": {
     "end_time": "2023-09-28T11:14:37.491401Z",
     "start_time": "2023-09-28T11:14:35.367327Z"
    }
   },
   "id": "9ce3570302293883"
  },
  {
   "cell_type": "code",
   "execution_count": 21,
   "outputs": [
    {
     "name": "stdout",
     "output_type": "stream",
     "text": [
      "La cadena hola tiene una longitud de 4 caracteres, el primero es h y el ultimo a en mayus es HOLA\n"
     ]
    }
   ],
   "source": [
    "class Cadena:\n",
    "    def __init__(self):\n",
    "        self.cadena = input('introduce un str')\n",
    "        self.long = len(self.cadena)\n",
    "        self.primer = self.cadena[0]\n",
    "        self.ult = self.cadena[-1]\n",
    "        self.mayus = self.cadena.upper()\n",
    "    \n",
    "    def __str__(self):\n",
    "        return f'La cadena {self.cadena} tiene una longitud de {self.long} caracteres, el primero es {self.primer} y el ultimo {self.ult} en mayus es {self.mayus}'\n",
    "cadena = Cadena()\n",
    "print(cadena)"
   ],
   "metadata": {
    "collapsed": false,
    "ExecuteTime": {
     "end_time": "2023-09-28T11:14:44.679485Z",
     "start_time": "2023-09-28T11:14:41.887818Z"
    }
   },
   "id": "99fffed7c9f156af"
  },
  {
   "cell_type": "code",
   "execution_count": 22,
   "outputs": [
    {
     "data": {
      "text/plain": "'la temperatura en grados Fahrenheit es 68.0'"
     },
     "execution_count": 22,
     "metadata": {},
     "output_type": "execute_result"
    }
   ],
   "source": [
    "#Solicita al usuario una temperatura en grados Celsius y conviértela a grados Fahrenheit\n",
    "#utilizando la fórmula: Fahrenheit = (Celsius * 9/5) + 32.\n",
    "\n",
    "def celsius_fahrenheit():\n",
    "    celsius = eval(input('introduzca una temperatura en grados Celsius'))\n",
    "    fahrenheit = (celsius * 9/5) + 32\n",
    "    return f'la temperatura en grados Fahrenheit es {fahrenheit}'\n",
    "celsius_fahrenheit()"
   ],
   "metadata": {
    "collapsed": false,
    "ExecuteTime": {
     "end_time": "2023-09-28T11:14:48.902113Z",
     "start_time": "2023-09-28T11:14:47.043555Z"
    }
   },
   "id": "1ab436555f02f6db"
  },
  {
   "cell_type": "code",
   "execution_count": 23,
   "outputs": [
    {
     "name": "stdout",
     "output_type": "stream",
     "text": [
      "[2, 4, 6, 8, 10, 12, 14, 16, 18, 20]\n"
     ]
    }
   ],
   "source": [
    "#Numeros pares\n",
    "l = []\n",
    "for i in range(1, 11):\n",
    "    i = i*2\n",
    "    l.append(i)\n",
    "print(l)"
   ],
   "metadata": {
    "collapsed": false,
    "ExecuteTime": {
     "end_time": "2023-09-28T11:15:05.059267Z",
     "start_time": "2023-09-28T11:15:05.048355Z"
    }
   },
   "id": "4c542475d668d21e"
  },
  {
   "cell_type": "code",
   "execution_count": 24,
   "outputs": [
    {
     "name": "stdout",
     "output_type": "stream",
     "text": [
      "((216, 124, 245), (131, 72, 97), (89, 121, 254))\n"
     ]
    },
    {
     "data": {
      "text/plain": "<Figure size 640x480 with 1 Axes>",
      "image/png": "[encoded data removed]"
     },
     "metadata": {},
     "output_type": "display_data"
    }
   ],
   "source": [
    "#Tupla con 3 colores, mostramos el del medio\n",
    "#Creamos una tupla con tres elementos, cada elemento es otra tupla con 3 valores aleatorios 0,255 rgb\n",
    "from random import randint\n",
    "import numpy as np\n",
    "import matplotlib.pyplot as plt\n",
    "tupla = ((randint(0,255),randint(0,255),randint(0,255)),(randint(0,255),randint(0,255),randint(0,255)),(randint(0,255),randint(0,255),randint(0,255)))\n",
    "print(tupla)\n",
    "color = tupla[1] #obtenemos el color 2 de la tupla \n",
    "color = np.array(color) #lo convertimos en array\n",
    "#normalizamos y mostramos el color\n",
    "color = color/255 \n",
    "plt.bar(0, 1, color = color)\n",
    "plt.show()"
   ],
   "metadata": {
    "collapsed": false,
    "ExecuteTime": {
     "end_time": "2023-09-28T11:15:34.855761Z",
     "start_time": "2023-09-28T11:15:34.342396Z"
    }
   },
   "id": "7a887e2cafd491f1"
  },
  {
   "cell_type": "code",
   "execution_count": 25,
   "outputs": [
    {
     "name": "stdout",
     "output_type": "stream",
     "text": [
      "La union de los conjuntos es {1, 2, 3, 4, 5, 6, 7, 8, 9, 10, 11, 12, 13, 14, 20, 30, 40, 50}, la interseccion es {1, 2, 3, 4, 5, 6, 7, 8, 9, 10} y la interferencia es {40, 11, 12, 13, 14, 50, 20, 30}\n"
     ]
    }
   ],
   "source": [
    "#Creamos dos conjuntos con algunos numeros repetidos y hacemos la union e interseccion y interferencia\n",
    "c1 = {1,2,3,4,5,6,7,8,9,10,20,30,40,50}\n",
    "c2 = {1,2,3,4,5,6,7,8,9,10,11,12,13,14}\n",
    "union = c1.union(c2)\n",
    "interseccion = c1.intersection(c2)\n",
    "interferencia = c1.symmetric_difference(c2)\n",
    "print(f'La union de los conjuntos es {union}, la interseccion es {interseccion} y la interferencia es {interferencia}')"
   ],
   "metadata": {
    "collapsed": false,
    "ExecuteTime": {
     "end_time": "2023-09-28T11:16:11.353345Z",
     "start_time": "2023-09-28T11:16:11.341865Z"
    }
   },
   "id": "fd56187f299995bc"
  },
  {
   "cell_type": "code",
   "execution_count": 26,
   "outputs": [
    {
     "data": {
      "text/plain": "123456789"
     },
     "execution_count": 26,
     "metadata": {},
     "output_type": "execute_result"
    }
   ],
   "source": [
    "#Diccionario con nombres y numeros de telefono y lo mostramos\n",
    "dic = {'Juan': 123456789, 'Carlos': 638954218, 'Nico': 234953333, 'Bruno': 987654321}\n",
    "dic['Juan'] "
   ],
   "metadata": {
    "collapsed": false,
    "ExecuteTime": {
     "end_time": "2023-09-28T11:16:12.718622Z",
     "start_time": "2023-09-28T11:16:12.703309Z"
    }
   },
   "id": "3a415c21a10cb9f"
  },
  {
   "cell_type": "code",
   "execution_count": 27,
   "outputs": [
    {
     "name": "stdout",
     "output_type": "stream",
     "text": [
      "La puerta AND sería: True la puerta OR sería: True la puerta NOT sería: False\n"
     ]
    }
   ],
   "source": [
    "#Puertas lógicas\n",
    "def logica():\n",
    "    p = bool(input('introduce un valor booleano'))\n",
    "    q = bool(input('introduce otro valor booleano'))\n",
    "    print(f'La puerta AND sería: {p and q} la puerta OR sería: {p or q} la puerta NOT sería: {not p}')\n",
    "logica()"
   ],
   "metadata": {
    "collapsed": false,
    "ExecuteTime": {
     "end_time": "2023-09-28T11:16:16.890209Z",
     "start_time": "2023-09-28T11:16:13.942939Z"
    }
   },
   "id": "4a521f75bed359b7"
  },
  {
   "cell_type": "code",
   "execution_count": 28,
   "outputs": [
    {
     "name": "stdout",
     "output_type": "stream",
     "text": [
      "20.0\n",
      "20\n",
      "20\n"
     ]
    }
   ],
   "source": [
    "#Conversiones de tipos\n",
    "def conversor_tip():\n",
    "    val = input('introduzca un valor')\n",
    "    val = float(val)\n",
    "    print(val)\n",
    "    val = int(val)\n",
    "    print(val)\n",
    "    val = str(val)\n",
    "    print(val)\n",
    "conversor_tip()"
   ],
   "metadata": {
    "collapsed": false,
    "ExecuteTime": {
     "end_time": "2023-09-28T11:16:21.902849Z",
     "start_time": "2023-09-28T11:16:19.545190Z"
    }
   },
   "id": "b78e355902f9fca5"
  },
  {
   "cell_type": "code",
   "execution_count": 29,
   "outputs": [
    {
     "name": "stdout",
     "output_type": "stream",
     "text": [
      "La cadena tiene 10 caracteres alfabeticos\n"
     ]
    }
   ],
   "source": [
    "#Conteo de caracteres\n",
    "def conto_str():\n",
    "    cad = input('introduzca una cadena de caracteres')\n",
    "    if type(cad) != str:\n",
    "        raise TypeError('el valor introducido no es una cadena de caracteres')\n",
    "    cont = 0\n",
    "    for i in cad:\n",
    "        if i.isalpha():\n",
    "            cont += 1\n",
    "    print(f'La cadena tiene {cont} caracteres alfabeticos')\n",
    "conto_str()"
   ],
   "metadata": {
    "collapsed": false,
    "ExecuteTime": {
     "end_time": "2023-09-28T11:17:43.413327Z",
     "start_time": "2023-09-28T11:17:38.729311Z"
    }
   },
   "id": "c303b93e19abb389"
  },
  {
   "cell_type": "code",
   "execution_count": 30,
   "outputs": [
    {
     "name": "stdout",
     "output_type": "stream",
     "text": [
      "holi me llimo juin\n"
     ]
    }
   ],
   "source": [
    "#Cambio de caracteres\n",
    "def cambiar_cad():\n",
    "    cad = input('introduzca una cadena de caracteres')\n",
    "    if type(cad) != str:\n",
    "        raise TypeError('el valor introducido no es una cadena de caracteres')\n",
    "    cart_r = input('introduce el caracter que quieras cambiar en la cadena')\n",
    "    cart_n = input('introduce el caracter por el que lo quieres cambiar')\n",
    "    cad = cad.replace(cart_r, cart_n)\n",
    "    print(cad)\n",
    "cambiar_cad()"
   ],
   "metadata": {
    "collapsed": false,
    "ExecuteTime": {
     "end_time": "2023-09-28T11:17:51.637695Z",
     "start_time": "2023-09-28T11:17:45.923255Z"
    }
   },
   "id": "c8593ec2bc121869"
  },
  {
   "cell_type": "code",
   "execution_count": 31,
   "outputs": [
    {
     "name": "stdout",
     "output_type": "stream",
     "text": [
      "Has vivido 7562 dias\n"
     ]
    }
   ],
   "source": [
    "#Pedir la fecha de nacimiento y contar los dias vividos hasta hoy\n",
    "import datetime as dt\n",
    "def dias_vividos():\n",
    "    nacimient0 = input('introduce una fecha dd/mm/yyyy')\n",
    "    nacimient0 = dt.datetime.strptime(nacimient0, '%d/%m/%Y')\n",
    "    hoy = dt.datetime.now()\n",
    "    dias = hoy - nacimient0\n",
    "    print(f'Has vivido {dias.days} dias')\n",
    "dias_vividos()\n"
   ],
   "metadata": {
    "collapsed": false,
    "ExecuteTime": {
     "end_time": "2023-09-28T11:18:02.416575Z",
     "start_time": "2023-09-28T11:17:55.459105Z"
    }
   },
   "id": "afdcdeaf6574fe51"
  },
  {
   "cell_type": "code",
   "execution_count": 32,
   "outputs": [
    {
     "name": "stdout",
     "output_type": "stream",
     "text": [
      "El promedio de las calificaciones es 8.033333333333333\n"
     ]
    }
   ],
   "source": [
    "#Solicita al usuario que ingrese las calificaciones de un estudiante en tres asignaturas diferentes\n",
    "#y calcula el promedio de las calificaciones.\n",
    "def promedio():\n",
    "    try:\n",
    "        cal1 = float(input('introduce la primera calificacion'))\n",
    "        cal2 = float(input('introducce la segunda calificacion'))\n",
    "        cal3 = float(input('introduce la tercera calificacion'))\n",
    "    except ValueError:\n",
    "        print('las calificaciones deben ser numeros')\n",
    "    prom = (cal1 + cal2 + cal3)/3\n",
    "    print(f'El promedio de las calificaciones es {prom}')\n",
    "promedio()"
   ],
   "metadata": {
    "collapsed": false,
    "ExecuteTime": {
     "end_time": "2023-09-28T11:18:13.737403Z",
     "start_time": "2023-09-28T11:18:07.785671Z"
    }
   },
   "id": "81072aa606c6247"
  },
  {
   "cell_type": "code",
   "execution_count": 33,
   "outputs": [
    {
     "name": "stdout",
     "output_type": "stream",
     "text": [
      "La diferencia entre las dos fechas es de 5142 dias\n"
     ]
    }
   ],
   "source": [
    "#Pide al usuario dos fechas (en formato \"dd/mm/aaaa\") y calcula la diferencia en días entre las\n",
    "#dos fechas.\n",
    "import datetime as dt\n",
    "def dias_entre_fechas():\n",
    "    fecha1 = input('introduce una fecha dd/mm/yyyy')\n",
    "    fecha2 = input('introduce otra fecha dd/mm/yyyy')\n",
    "    fecha1 = dt.datetime.strptime(fecha1, '%d/%m/%Y')\n",
    "    fecha2 = dt.datetime.strptime(fecha2, '%d/%m/%Y')\n",
    "    dias = fecha2 - fecha1\n",
    "    print(f'La diferencia entre las dos fechas es de {dias.days} dias')\n",
    "\n",
    "dias_entre_fechas()"
   ],
   "metadata": {
    "collapsed": false,
    "ExecuteTime": {
     "end_time": "2023-09-28T11:18:30.536921Z",
     "start_time": "2023-09-28T11:18:16.607900Z"
    }
   },
   "id": "a2fdc15e66669a29"
  },
  {
   "cell_type": "code",
   "execution_count": 34,
   "outputs": [
    {
     "name": "stdout",
     "output_type": "stream",
     "text": [
      "[5, 2, 7, 1, 8, 10, 3]\n",
      "[5, 4, 2, 7, 1, 8, 10, 3]\n",
      "[5, 4, 2, 1, 8, 10, 3]\n",
      "[4, 2, 1, 8, 10, 3]\n",
      "el elemento eliminado es 5\n",
      "el indice del elemento 8 es 3\n",
      "el numero de veces que aparrece el 4 es 1\n",
      "[1, 2, 3, 4, 8, 10]\n",
      "[10, 8, 4, 3, 2, 1]\n",
      "[]\n"
     ]
    }
   ],
   "source": [
    "#Manipulacion de listas\n",
    "mi_lista = [5,2,7,1,8]\n",
    "mi_lista.append(10)\n",
    "mi_lista.append(3)\n",
    "print(mi_lista) \n",
    "mi_lista.insert(1,4)\n",
    "print(mi_lista)\n",
    "mi_lista.remove(7)\n",
    "print(mi_lista)\n",
    "elemento_eliminado = mi_lista.pop(0)\n",
    "print(mi_lista)\n",
    "print(f'el elemento eliminado es {elemento_eliminado}')\n",
    "indice = mi_lista.index(8)\n",
    "print(f'el indice del elemento 8 es {indice}')\n",
    "conteo = mi_lista.count(4)\n",
    "print(f'el numero de veces que aparrece el 4 es {conteo}')\n",
    "mi_lista.sort()\n",
    "print(mi_lista)\n",
    "mi_lista.reverse()\n",
    "print(mi_lista)\n",
    "mi_lista.clear()\n",
    "print(mi_lista)"
   ],
   "metadata": {
    "collapsed": false,
    "ExecuteTime": {
     "end_time": "2023-09-28T11:18:33.401782Z",
     "start_time": "2023-09-28T11:18:33.388791Z"
    }
   },
   "id": "90e7631a94e06266"
  },
  {
   "cell_type": "code",
   "execution_count": 35,
   "outputs": [
    {
     "name": "stdout",
     "output_type": "stream",
     "text": [
      "El promedio de goles de la seleccion es 3.0\n",
      "La mejor goleadora de la seleccion es Marta con 5 goles\n",
      "La jugadora con el numero 7 es Jenni\n",
      "No hay ninguna jugadora con el numero 12\n"
     ]
    }
   ],
   "source": [
    "#Manipulacion de tuplas\n",
    "jug1 = ('Marta', 10, 5)\n",
    "jug2 = ('Amanda', 9, 3)\n",
    "jug3 = ('Alexia', 11, 2)\n",
    "jug4 = ('Jenni', 7, 4)\n",
    "jug5 = ('Lucia', 8, 1)\n",
    "\n",
    "registro_rendimiento = [jug1, jug2, jug3, jug4, jug5]\n",
    "def promedio_goles():\n",
    "    suma = 0\n",
    "    for i in registro_rendimiento:\n",
    "        suma += i[2]\n",
    "    promedio = suma/len(registro_rendimiento)\n",
    "    print(f'El promedio de goles de la seleccion es {promedio}')\n",
    "\n",
    "def mejor_goleadora():\n",
    "    max = 0\n",
    "    for i in registro_rendimiento:\n",
    "        if i[2] > max:\n",
    "            max = i[2]\n",
    "            jugadora = i[0]\n",
    "    print(f'La mejor goleadora de la seleccion es {jugadora} con {max} goles')\n",
    "\n",
    "def buscar_jugadora(numero):\n",
    "    for i in registro_rendimiento:\n",
    "        if i[1] == numero:\n",
    "            print(f'La jugadora con el numero {numero} es {i[0]}')\n",
    "            return\n",
    "    print(f'No hay ninguna jugadora con el numero {numero}')\n",
    "    \n",
    "promedio_goles()\n",
    "mejor_goleadora()\n",
    "buscar_jugadora(7)\n",
    "buscar_jugadora(12)"
   ],
   "metadata": {
    "collapsed": false,
    "ExecuteTime": {
     "end_time": "2023-09-28T11:18:35.006985Z",
     "start_time": "2023-09-28T11:18:34.998098Z"
    }
   },
   "id": "af93d2510cc46f6a"
  },
  {
   "cell_type": "code",
   "execution_count": 5,
   "outputs": [
    {
     "name": "stdout",
     "output_type": "stream",
     "text": [
      "Los estudiantes comunes son {123456, 55555, 66666, 77777, 88888, 99999}\n",
      "Todos los estudiantes son {123456, 55555, 22222, 77777, 44444, 99999, 11111, 66666, 33333, 88888}\n",
      "Los no comunes estudiantes son {11111, 22222, 33333, 44444}\n"
     ]
    }
   ],
   "source": [
    "#Ejercicio de conjuntos\n",
    "grup_a = {123456,55555,66666,77777,88888,99999}\n",
    "grup_b = {123456,55555,66666,77777,88888,99999,11111,22222,33333,44444}\n",
    "\n",
    "def estudiantes_comunes():\n",
    "    comunes = grup_a.intersection(grup_b)\n",
    "    print(f'Los estudiantes comunes son {comunes}')\n",
    "\n",
    "def estudiantes_unidos():\n",
    "    u = grup_a.union(grup_b)\n",
    "    print(f'Todos los estudiantes son {u}')\n",
    "\n",
    "def estudiantes_exclusivos():\n",
    "    e = grup_a.symmetric_difference(grup_b)\n",
    "    print(f'Los no comunes estudiantes son {e}')\n",
    "\n",
    "estudiantes_comunes()\n",
    "estudiantes_unidos()\n",
    "estudiantes_exclusivos()"
   ],
   "metadata": {
    "collapsed": false,
    "ExecuteTime": {
     "end_time": "2023-09-28T11:01:29.753889Z",
     "start_time": "2023-09-28T11:01:29.730901Z"
    }
   },
   "id": "43f559214eb50ee5"
  },
  {
   "cell_type": "code",
   "execution_count": 15,
   "outputs": [
    {
     "name": "stdout",
     "output_type": "stream",
     "text": [
      "Nombre: Charizard\n",
      "Tipo: Fuego\n",
      "HP: 78\n",
      "ATK: 84\n",
      "DEF: 78\n",
      "Charizard\n",
      "Venusaur\n",
      "Pikachu\n"
     ]
    }
   ],
   "source": [
    "#Pokedex con diccionarios\n",
    "pokedex = {}\n",
    "\n",
    "pokedex[\"Charizard\"] = {\"tipo\": \"Fuego\", \"hp\": 78, \"atk\": 84, \"def\": 78}\n",
    "pokedex[\"Blastoise\"] = {\"tipo\": \"Agua\", \"hp\": 79, \"atk\": 83, \"def\": 100}\n",
    "pokedex[\"Venusaur\"] = {\"tipo\": \"Planta\", \"hp\": 80, \"atk\": 82, \"def\": 83}\n",
    "\n",
    "def mostrar_informacion_pokemon(nombre_pokemon):\n",
    "    pokemon = pokedex.get(nombre_pokemon)\n",
    "    if pokemon is not None:\n",
    "        print(f\"Nombre: {nombre_pokemon}\")\n",
    "        print(f\"Tipo: {pokemon['tipo']}\")\n",
    "        print(f\"HP: {pokemon['hp']}\")\n",
    "        print(f\"ATK: {pokemon['atk']}\")\n",
    "        print(f\"DEF: {pokemon['def']}\")\n",
    "    else:\n",
    "        print(f\"El Pokémon {nombre_pokemon} no existe.\")\n",
    "\n",
    "def agregar_pokemon(nombre_pokemon, tipo, hp, atk, defen):\n",
    "    pokedex[nombre_pokemon] = {\n",
    "        \"tipo\": tipo,\n",
    "        \"hp\": hp,\n",
    "        \"atk\": atk,\n",
    "        \"def\": defen,\n",
    "    }\n",
    "\n",
    "def eliminar_pokemon(nombre_pokemon):\n",
    "    del pokedex[nombre_pokemon]\n",
    "\n",
    "def monstrar_poke():\n",
    "    for nombre_pokemon in pokedex.keys():\n",
    "        print(nombre_pokemon)\n",
    "        \n",
    "mostrar_informacion_pokemon(\"Charizard\")\n",
    "agregar_pokemon(\"Pikachu\", \"Eléctrico\", 35, 50, 40)\n",
    "eliminar_pokemon(\"Blastoise\")\n",
    "monstrar_poke()"
   ],
   "metadata": {
    "collapsed": false,
    "ExecuteTime": {
     "end_time": "2023-09-28T11:07:57.936884Z",
     "start_time": "2023-09-28T11:07:57.934251Z"
    }
   },
   "id": "e26c1ebed957c87c"
  },
  {
   "cell_type": "code",
   "execution_count": 16,
   "outputs": [
    {
     "name": "stdout",
     "output_type": "stream",
     "text": [
      "Título: La Divina Comedia\n",
      "Autor: Dante Alighieri\n",
      "Año de publicación: 1308\n",
      "Título: Los Miserables\n",
      "Autor: Victor Hugo\n",
      "Año de publicación: 1862\n",
      "Título: El Quijote\n",
      "Autor: Miguel de Cervantes\n",
      "Año de publicación: 1605\n"
     ]
    }
   ],
   "source": [
    "#Ejercicio de clases: Biblioteca y libros\n",
    "class Libro:\n",
    "\n",
    "    def __init__(self, titulo, autor, anio_publicacion):\n",
    "        self.titulo = titulo\n",
    "        self.autor = autor\n",
    "        self.anio_publicacion = anio_publicacion\n",
    "\n",
    "    def mostrar_informacion(self):\n",
    "        print(f\"Título: {self.titulo}\")\n",
    "        print(f\"Autor: {self.autor}\")\n",
    "        print(f\"Año de publicación: {self.anio_publicacion}\")\n",
    "\n",
    "class Biblioteca:\n",
    "\n",
    "    def __init__(self, nombre):\n",
    "        self.nombre = nombre\n",
    "        self.libros_disponibles = []\n",
    "\n",
    "    def agregar_libro(self, libro):\n",
    "        self.libros_disponibles.append(libro)\n",
    "\n",
    "    def prestar_libro(self, titulo):\n",
    "        for libro in self.libros_disponibles:\n",
    "            if libro.titulo == titulo:\n",
    "                self.libros_disponibles.remove(libro)\n",
    "                return libro\n",
    "\n",
    "        return None\n",
    "\n",
    "    def devolver_libro(self, libro):\n",
    "        self.libros_disponibles.append(libro)\n",
    "\n",
    "    def mostrar_catalogo(self):\n",
    "        for libro in self.libros_disponibles:\n",
    "            libro.mostrar_informacion()\n",
    "\n",
    "mi_biblioteca = Biblioteca(\"Mi biblioteca\")\n",
    "\n",
    "libro1 = Libro(\"El Quijote\", \"Miguel de Cervantes\", 1605)\n",
    "libro2 = Libro(\"La Divina Comedia\", \"Dante Alighieri\", 1308)\n",
    "libro3 = Libro(\"Los Miserables\", \"Victor Hugo\", 1862)\n",
    "\n",
    "mi_biblioteca.agregar_libro(libro1)\n",
    "mi_biblioteca.agregar_libro(libro2)\n",
    "mi_biblioteca.agregar_libro(libro3)\n",
    "\n",
    "libro_prestado = mi_biblioteca.prestar_libro(\"El Quijote\")\n",
    "mi_biblioteca.devolver_libro(libro_prestado)\n",
    "mi_biblioteca.mostrar_catalogo()"
   ],
   "metadata": {
    "collapsed": false,
    "ExecuteTime": {
     "end_time": "2023-09-28T11:09:26.974443Z",
     "start_time": "2023-09-28T11:09:26.954624Z"
    }
   },
   "id": "59e6bf3b1815a8dd"
  }
 ],
 "metadata": {
  "kernelspec": {
   "display_name": "Python 3",
   "language": "python",
   "name": "python3"
  },
  "language_info": {
   "codemirror_mode": {
    "name": "ipython",
    "version": 2
   },
   "file_extension": ".py",
   "mimetype": "text/x-python",
   "name": "python",
   "nbconvert_exporter": "python",
   "pygments_lexer": "ipython2",
   "version": "2.7.6"
  }
 },
 "nbformat": 4,
 "nbformat_minor": 5
}
