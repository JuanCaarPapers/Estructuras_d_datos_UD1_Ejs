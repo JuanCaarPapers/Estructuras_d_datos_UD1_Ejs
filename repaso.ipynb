{
 "cells": [
  {
   "cell_type": "code",
   "execution_count": 1,
   "id": "initial_id",
   "metadata": {
    "collapsed": true,
    "ExecuteTime": {
     "end_time": "2023-09-28T10:52:04.439281Z",
     "start_time": "2023-09-28T10:51:57.647568Z"
    }
   },
   "outputs": [
    {
     "ename": "SyntaxError",
     "evalue": "invalid syntax (<string>, line 0)",
     "output_type": "error",
     "traceback": [
      "Traceback \u001B[0;36m(most recent call last)\u001B[0m:\n",
      "\u001B[0m  File \u001B[1;32m~/opt/anaconda3/envs/Python_10/lib/python3.10/site-packages/IPython/core/interactiveshell.py:3505\u001B[0m in \u001B[1;35mrun_code\u001B[0m\n    exec(code_obj, self.user_global_ns, self.user_ns)\u001B[0m\n",
      "\u001B[0m  Cell \u001B[1;32mIn[1], line 18\u001B[0m\n    suma_ints()\u001B[0m\n",
      "\u001B[0;36m  Cell \u001B[0;32mIn[1], line 3\u001B[0;36m in \u001B[0;35msuma_ints\u001B[0;36m\n\u001B[0;31m    a,b = eval(input('introduzca dos numeros de la forma a,b'))\u001B[0;36m\n",
      "\u001B[0;36m  File \u001B[0;32m<string>\u001B[0;36m\u001B[0m\n\u001B[0;31m    \u001B[0m\n\u001B[0m    ^\u001B[0m\n\u001B[0;31mSyntaxError\u001B[0m\u001B[0;31m:\u001B[0m invalid syntax\n"
     ]
    }
   ],
   "source": [
    "#Suma de enteros \n",
    "def suma_ints():\n",
    "    a,b = eval(input('introduzca dos numeros de la forma a,b'))\n",
    "    a = int(a)\n",
    "    b = int(b)\n",
    "    return a + b        \n",
    "\n",
    "'''#Forma Pro\n",
    "def suma_ints(a, b):\n",
    " \n",
    "    if not isinstance(a, int):\n",
    "        raise TypeError(f'a debe ser un entero, pero es {type(a)}')\n",
    "    if not isinstance(b, int):\n",
    "        raise TypeError(f'b debe ser un entero, pero es {type(b)}')\n",
    "\n",
    "    return a + b'''\n",
    "\n",
    "suma_ints()"
   ]
  },
  {
   "cell_type": "code",
   "execution_count": 2,
   "outputs": [],
   "source": [
    "#Calculadora bmi, se pide al usuario kg y m\n",
    "def bmi():\n",
    "    kg, m = eval(input('introduzca su peso en kg y su altura en m separados por una coma'))\n",
    "    return kg / m**2\n"
   ],
   "metadata": {
    "collapsed": false,
    "ExecuteTime": {
     "end_time": "2023-09-28T10:52:06.313656Z",
     "start_time": "2023-09-28T10:52:06.305272Z"
    }
   },
   "id": "a60c99c3babc6b49"
  },
  {
   "cell_type": "code",
   "execution_count": 3,
   "outputs": [
    {
     "ename": "IndexError",
     "evalue": "string index out of range",
     "output_type": "error",
     "traceback": [
      "\u001B[0;31m---------------------------------------------------------------------------\u001B[0m",
      "\u001B[0;31mIndexError\u001B[0m                                Traceback (most recent call last)",
      "Cell \u001B[0;32mIn[3], line 5\u001B[0m\n\u001B[1;32m      3\u001B[0m     longitud \u001B[38;5;241m=\u001B[39m \u001B[38;5;28mlen\u001B[39m(cadena)\n\u001B[1;32m      4\u001B[0m     \u001B[38;5;28mprint\u001B[39m(\u001B[38;5;124mf\u001B[39m\u001B[38;5;124m'\u001B[39m\u001B[38;5;124mla longitud de la cadena es \u001B[39m\u001B[38;5;132;01m{\u001B[39;00mlongitud\u001B[38;5;132;01m}\u001B[39;00m\u001B[38;5;124m, el 1er carácter es \u001B[39m\u001B[38;5;132;01m{\u001B[39;00mcadena[\u001B[38;5;241m0\u001B[39m]\u001B[38;5;132;01m}\u001B[39;00m\u001B[38;5;124m y el ultimo es \u001B[39m\u001B[38;5;132;01m{\u001B[39;00mcadena[\u001B[38;5;241m-\u001B[39m\u001B[38;5;241m1\u001B[39m]\u001B[38;5;132;01m}\u001B[39;00m\u001B[38;5;124m,la cadena en mayúsculas es \u001B[39m\u001B[38;5;132;01m{\u001B[39;00mcadena\u001B[38;5;241m.\u001B[39mupper()\u001B[38;5;132;01m}\u001B[39;00m\u001B[38;5;124m'\u001B[39m)\n\u001B[0;32m----> 5\u001B[0m \u001B[43mcadena\u001B[49m\u001B[43m(\u001B[49m\u001B[43m)\u001B[49m\n",
      "Cell \u001B[0;32mIn[3], line 4\u001B[0m, in \u001B[0;36mcadena\u001B[0;34m(cadena)\u001B[0m\n\u001B[1;32m      2\u001B[0m \u001B[38;5;28;01mdef\u001B[39;00m \u001B[38;5;21mcadena\u001B[39m(cadena \u001B[38;5;241m=\u001B[39m \u001B[38;5;28minput\u001B[39m(\u001B[38;5;124m'\u001B[39m\u001B[38;5;124mintroduzca una cadena de caracteres\u001B[39m\u001B[38;5;124m'\u001B[39m)):\n\u001B[1;32m      3\u001B[0m     longitud \u001B[38;5;241m=\u001B[39m \u001B[38;5;28mlen\u001B[39m(cadena)\n\u001B[0;32m----> 4\u001B[0m     \u001B[38;5;28mprint\u001B[39m(\u001B[38;5;124mf\u001B[39m\u001B[38;5;124m'\u001B[39m\u001B[38;5;124mla longitud de la cadena es \u001B[39m\u001B[38;5;132;01m{\u001B[39;00mlongitud\u001B[38;5;132;01m}\u001B[39;00m\u001B[38;5;124m, el 1er carácter es \u001B[39m\u001B[38;5;132;01m{\u001B[39;00mcadena[\u001B[38;5;241m0\u001B[39m]\u001B[38;5;132;01m}\u001B[39;00m\u001B[38;5;124m y el ultimo es \u001B[39m\u001B[38;5;132;01m{\u001B[39;00mcadena[\u001B[38;5;241m-\u001B[39m\u001B[38;5;241m1\u001B[39m]\u001B[38;5;132;01m}\u001B[39;00m\u001B[38;5;124m,la cadena en mayúsculas es \u001B[39m\u001B[38;5;132;01m{\u001B[39;00mcadena\u001B[38;5;241m.\u001B[39mupper()\u001B[38;5;132;01m}\u001B[39;00m\u001B[38;5;124m'\u001B[39m)\n",
      "\u001B[0;31mIndexError\u001B[0m: string index out of range"
     ]
    }
   ],
   "source": [
    "#Cadena de caracteres\n",
    "def cadena(cadena = input('introduzca una cadena de caracteres')):\n",
    "    longitud = len(cadena)\n",
    "    print(f'la longitud de la cadena es {longitud}, el 1er carácter es {cadena[0]} y el ultimo es {cadena[-1]},la cadena en mayúsculas es {cadena.upper()}')\n",
    "cadena()"
   ],
   "metadata": {
    "collapsed": false,
    "ExecuteTime": {
     "end_time": "2023-09-28T10:52:21.579756Z",
     "start_time": "2023-09-28T10:52:20.022050Z"
    }
   },
   "id": "9ce3570302293883"
  },
  {
   "cell_type": "code",
   "execution_count": 4,
   "outputs": [
    {
     "ename": "IndexError",
     "evalue": "string index out of range",
     "output_type": "error",
     "traceback": [
      "\u001B[0;31m---------------------------------------------------------------------------\u001B[0m",
      "\u001B[0;31mIndexError\u001B[0m                                Traceback (most recent call last)",
      "Cell \u001B[0;32mIn[4], line 11\u001B[0m\n\u001B[1;32m      9\u001B[0m     \u001B[38;5;28;01mdef\u001B[39;00m \u001B[38;5;21m__str__\u001B[39m(\u001B[38;5;28mself\u001B[39m):\n\u001B[1;32m     10\u001B[0m         \u001B[38;5;28;01mreturn\u001B[39;00m \u001B[38;5;124mf\u001B[39m\u001B[38;5;124m'\u001B[39m\u001B[38;5;124mLa cadena \u001B[39m\u001B[38;5;132;01m{\u001B[39;00m\u001B[38;5;28mself\u001B[39m\u001B[38;5;241m.\u001B[39mcadena\u001B[38;5;132;01m}\u001B[39;00m\u001B[38;5;124m tiene una longitud de \u001B[39m\u001B[38;5;132;01m{\u001B[39;00m\u001B[38;5;28mself\u001B[39m\u001B[38;5;241m.\u001B[39mlong\u001B[38;5;132;01m}\u001B[39;00m\u001B[38;5;124m caracteres, el primero es \u001B[39m\u001B[38;5;132;01m{\u001B[39;00m\u001B[38;5;28mself\u001B[39m\u001B[38;5;241m.\u001B[39mprimer\u001B[38;5;132;01m}\u001B[39;00m\u001B[38;5;124m y el ultimo \u001B[39m\u001B[38;5;132;01m{\u001B[39;00m\u001B[38;5;28mself\u001B[39m\u001B[38;5;241m.\u001B[39mult\u001B[38;5;132;01m}\u001B[39;00m\u001B[38;5;124m en mayus es \u001B[39m\u001B[38;5;132;01m{\u001B[39;00m\u001B[38;5;28mself\u001B[39m\u001B[38;5;241m.\u001B[39mmayus\u001B[38;5;132;01m}\u001B[39;00m\u001B[38;5;124m'\u001B[39m\n\u001B[0;32m---> 11\u001B[0m cadena \u001B[38;5;241m=\u001B[39m \u001B[43mCadena\u001B[49m\u001B[43m(\u001B[49m\u001B[43m)\u001B[49m\n\u001B[1;32m     12\u001B[0m \u001B[38;5;28mprint\u001B[39m(cadena)\n",
      "Cell \u001B[0;32mIn[4], line 5\u001B[0m, in \u001B[0;36mCadena.__init__\u001B[0;34m(self)\u001B[0m\n\u001B[1;32m      3\u001B[0m \u001B[38;5;28mself\u001B[39m\u001B[38;5;241m.\u001B[39mcadena \u001B[38;5;241m=\u001B[39m \u001B[38;5;28minput\u001B[39m(\u001B[38;5;124m'\u001B[39m\u001B[38;5;124mintroduce un str\u001B[39m\u001B[38;5;124m'\u001B[39m)\n\u001B[1;32m      4\u001B[0m \u001B[38;5;28mself\u001B[39m\u001B[38;5;241m.\u001B[39mlong \u001B[38;5;241m=\u001B[39m \u001B[38;5;28mlen\u001B[39m(\u001B[38;5;28mself\u001B[39m\u001B[38;5;241m.\u001B[39mcadena)\n\u001B[0;32m----> 5\u001B[0m \u001B[38;5;28mself\u001B[39m\u001B[38;5;241m.\u001B[39mprimer \u001B[38;5;241m=\u001B[39m \u001B[38;5;28;43mself\u001B[39;49m\u001B[38;5;241;43m.\u001B[39;49m\u001B[43mcadena\u001B[49m\u001B[43m[\u001B[49m\u001B[38;5;241;43m0\u001B[39;49m\u001B[43m]\u001B[49m\n\u001B[1;32m      6\u001B[0m \u001B[38;5;28mself\u001B[39m\u001B[38;5;241m.\u001B[39mult \u001B[38;5;241m=\u001B[39m \u001B[38;5;28mself\u001B[39m\u001B[38;5;241m.\u001B[39mcadena[\u001B[38;5;241m-\u001B[39m\u001B[38;5;241m1\u001B[39m]\n\u001B[1;32m      7\u001B[0m \u001B[38;5;28mself\u001B[39m\u001B[38;5;241m.\u001B[39mmayus \u001B[38;5;241m=\u001B[39m \u001B[38;5;28mself\u001B[39m\u001B[38;5;241m.\u001B[39mcadena\u001B[38;5;241m.\u001B[39mupper()\n",
      "\u001B[0;31mIndexError\u001B[0m: string index out of range"
     ]
    }
   ],
   "source": [
    "class Cadena:\n",
    "    def __init__(self):\n",
    "        self.cadena = input('introduce un str')\n",
    "        self.long = len(self.cadena)\n",
    "        self.primer = self.cadena[0]\n",
    "        self.ult = self.cadena[-1]\n",
    "        self.mayus = self.cadena.upper()\n",
    "    \n",
    "    def __str__(self):\n",
    "        return f'La cadena {self.cadena} tiene una longitud de {self.long} caracteres, el primero es {self.primer} y el ultimo {self.ult} en mayus es {self.mayus}'\n",
    "cadena = Cadena()\n",
    "print(cadena)"
   ],
   "metadata": {
    "collapsed": false,
    "ExecuteTime": {
     "end_time": "2023-09-28T10:52:29.514900Z",
     "start_time": "2023-09-28T10:52:28.253008Z"
    }
   },
   "id": "99fffed7c9f156af"
  },
  {
   "cell_type": "code",
   "execution_count": null,
   "outputs": [],
   "source": [
    "#Solicita al usuario una temperatura en grados Celsius y conviértela a grados Fahrenheit\n",
    "#utilizando la fórmula: Fahrenheit = (Celsius * 9/5) + 32.\n",
    "\n",
    "def celsius_fahrenheit():\n",
    "    celsius = eval(input('introduzca una temperatura en grados Celsius'))\n",
    "    fahrenheit = (celsius * 9/5) + 32\n",
    "    return f'la temperatura en grados Fahrenheit es {fahrenheit}'\n",
    "celsius_fahrenheit()"
   ],
   "metadata": {
    "collapsed": false
   },
   "id": "1ab436555f02f6db"
  },
  {
   "cell_type": "code",
   "execution_count": null,
   "outputs": [],
   "source": [
    "class Celsius_to_faren():\n",
    "    def __init__(self):\n",
    "        self.celsius = float(input('introduzca una temperatura en grados Celsius'))\n",
    "        self.fahrenheit = (self.celsius * 9/5) + 32\n",
    "    def __str__(self):\n",
    "        return f'la temperatura en grados Fahrenheit es {self.fahrenheit}'\n",
    "celsius = Celsius_to_faren()\n",
    "print(celsius)"
   ],
   "metadata": {
    "collapsed": false
   },
   "id": "9c5cb2bb5173c0df"
  },
  {
   "cell_type": "code",
   "execution_count": null,
   "outputs": [],
   "source": [
    "l = []\n",
    "for i in range(1, 11):\n",
    "    i = i*2\n",
    "    l.append(i)\n",
    "print(l)"
   ],
   "metadata": {
    "collapsed": false
   },
   "id": "4c542475d668d21e"
  },
  {
   "cell_type": "code",
   "execution_count": null,
   "outputs": [],
   "source": [
    "#Creamos una tupla con tres elementos, cada elemento es otra tupla con 3 valores aleatorios 0,255 rgb\n",
    "from random import randint\n",
    "import numpy as np\n",
    "import matplotlib.pyplot as plt\n",
    "tupla = ((randint(0,255),randint(0,255),randint(0,255)),(randint(0,255),randint(0,255),randint(0,255)),(randint(0,255),randint(0,255),randint(0,255)))\n",
    "print(tupla)\n",
    "color = tupla[1] #obtenemos el color 2 de la tupla \n",
    "color = np.array(color) #lo convertimos en array\n",
    "#normalizamos y mostramos el color\n",
    "color = color/255 \n",
    "plt.bar(0, 1, color = color)\n",
    "plt.show()"
   ],
   "metadata": {
    "collapsed": false
   },
   "id": "7a887e2cafd491f1"
  },
  {
   "cell_type": "code",
   "execution_count": null,
   "outputs": [],
   "source": [
    "#Creamos dos conjuntos con algunos numeros repetidos y hacemos la union e interseccion y interferencia\n",
    "c1 = {1,2,3,4,5,6,7,8,9,10,20,30,40,50}\n",
    "c2 = {1,2,3,4,5,6,7,8,9,10,11,12,13,14}\n",
    "union = c1.union(c2)\n",
    "interseccion = c1.intersection(c2)\n",
    "interferencia = c1.symmetric_difference(c2)\n",
    "print(f'La union de los conjuntos es {union}, la interseccion es {interseccion} y la interferencia es {interferencia}')"
   ],
   "metadata": {
    "collapsed": false
   },
   "id": "fd56187f299995bc"
  },
  {
   "cell_type": "code",
   "execution_count": null,
   "outputs": [],
   "source": [
    "#Creamos un diccionario con nombres y numeros de telefono y lo mostramos\n",
    "dic = {'Juan': 123456789, 'Carlos': 638954218, 'Nico': 234953333, 'Bruno': 987654321}\n",
    "dic['Juan'] "
   ],
   "metadata": {
    "collapsed": false
   },
   "id": "3a415c21a10cb9f"
  },
  {
   "cell_type": "code",
   "execution_count": null,
   "outputs": [],
   "source": [
    "def logica():\n",
    "    p = bool(input('introduce un valor booleano'))\n",
    "    q = bool(input('introduce otro valor booleano'))\n",
    "    print(f'La puerta AND sería: {p and q} la puerta OR sería: {p or q} la puerta NOT sería: {not p}')\n",
    "logica()"
   ],
   "metadata": {
    "collapsed": false
   },
   "id": "4a521f75bed359b7"
  },
  {
   "cell_type": "code",
   "execution_count": null,
   "outputs": [],
   "source": [
    "def conversor_tip():\n",
    "    val = input('introduzca un valor')\n",
    "    val = float(val)\n",
    "    print(val)\n",
    "    val = int(val)\n",
    "    print(val)\n",
    "    val = str(val)\n",
    "    print(val)\n",
    "conversor_tip()"
   ],
   "metadata": {
    "collapsed": false
   },
   "id": "b78e355902f9fca5"
  },
  {
   "cell_type": "code",
   "execution_count": null,
   "outputs": [],
   "source": [
    "def conto_str():\n",
    "    cad = input('introduzca una cadena de caracteres')\n",
    "    if type(cad) != str:\n",
    "        raise TypeError('el valor introducido no es una cadena de caracteres')\n",
    "    cont = 0\n",
    "    for i in cad:\n",
    "        if i.isalpha():\n",
    "            cont += 1\n",
    "    print(f'La cadena tiene {cont} caracteres alfabeticos')\n",
    "conto_str()"
   ],
   "metadata": {
    "collapsed": false
   },
   "id": "c303b93e19abb389"
  },
  {
   "cell_type": "code",
   "execution_count": null,
   "outputs": [],
   "source": [
    "def cambiar_cad():\n",
    "    cad = input('introduzca una cadena de caracteres')\n",
    "    if type(cad) != str:\n",
    "        raise TypeError('el valor introducido no es una cadena de caracteres')\n",
    "    cart_r = input('introduce el caracter que quieras cambiar en la cadena')\n",
    "    cart_n = input('introduce el caracter por el que lo quieres cambiar')\n",
    "    cad = cad.replace(cart_r, cart_n)\n",
    "    print(cad)\n",
    "cambiar_cad()"
   ],
   "metadata": {
    "collapsed": false
   },
   "id": "c8593ec2bc121869"
  },
  {
   "cell_type": "code",
   "execution_count": null,
   "outputs": [],
   "source": [
    "#Pedir la fecha de nacimiento y contar los dias vividos hasta hoy\n",
    "import datetime as dt\n",
    "def dias_vividos():\n",
    "    nacimient0 = input('introduce una fecha dd/mm/yyyy')\n",
    "    nacimient0 = dt.datetime.strptime(nacimient0, '%d/%m/%Y')\n",
    "    hoy = dt.datetime.now()\n",
    "    dias = hoy - nacimient0\n",
    "    print(f'Has vivido {dias.days} dias')\n",
    "dias_vividos()\n"
   ],
   "metadata": {
    "collapsed": false
   },
   "id": "afdcdeaf6574fe51"
  },
  {
   "cell_type": "code",
   "execution_count": null,
   "outputs": [],
   "source": [
    "#Solicita al usuario que ingrese las calificaciones de un estudiante en tres asignaturas diferentes\n",
    "#y calcula el promedio de las calificaciones.\n",
    "def promedio():\n",
    "    try:\n",
    "        cal1 = float(input('introduce la primera calificacion'))\n",
    "        cal2 = float(input('introducce la segunda calificacion'))\n",
    "        cal3 = float(input('introduce la tercera calificacion'))\n",
    "    except ValueError:\n",
    "        print('las calificaciones deben ser numeros')\n",
    "    prom = (cal1 + cal2 + cal3)/3\n",
    "    print(f'El promedio de las calificaciones es {prom}')\n",
    "promedio()"
   ],
   "metadata": {
    "collapsed": false
   },
   "id": "81072aa606c6247"
  },
  {
   "cell_type": "code",
   "execution_count": null,
   "outputs": [],
   "source": [
    "#Pide al usuario dos fechas (en formato \"dd/mm/aaaa\") y calcula la diferencia en días entre las\n",
    "#dos fechas.\n",
    "import datetime as dt\n",
    "def dias_entre_fechas():\n",
    "    fecha1 = input('introduce una fecha dd/mm/yyyy')\n",
    "    fecha2 = input('introduce otra fecha dd/mm/yyyy')\n",
    "    fecha1 = dt.datetime.strptime(fecha1, '%d/%m/%Y')\n",
    "    fecha2 = dt.datetime.strptime(fecha2, '%d/%m/%Y')\n",
    "    dias = fecha2 - fecha1\n",
    "    print(f'La diferencia entre las dos fechas es de {dias.days} dias')\n",
    "\n",
    "dias_entre_fechas()"
   ],
   "metadata": {
    "collapsed": false
   },
   "id": "a2fdc15e66669a29"
  },
  {
   "cell_type": "code",
   "execution_count": null,
   "outputs": [],
   "source": [
    "mi_lista = [5,2,7,1,8]\n",
    "mi_lista.append(10)\n",
    "mi_lista.append(3)\n",
    "print(mi_lista) \n",
    "mi_lista.insert(1,4)\n",
    "print(mi_lista)\n",
    "mi_lista.remove(7)\n",
    "print(mi_lista)\n",
    "elemento_eliminado = mi_lista.pop(0)\n",
    "print(mi_lista)\n",
    "print(f'el elemento eliminado es {elemento_eliminado}')\n",
    "indice = mi_lista.index(8)\n",
    "print(f'el indice del elemento 8 es {indice}')\n",
    "conteo = mi_lista.count(4)\n",
    "print(f'el numero de veces que aparrece el 4 es {conteo}')\n",
    "mi_lista.sort()\n",
    "print(mi_lista)\n",
    "mi_lista.reverse()\n",
    "print(mi_lista)\n",
    "mi_lista.clear()\n",
    "print(mi_lista)"
   ],
   "metadata": {
    "collapsed": false
   },
   "id": "90e7631a94e06266"
  },
  {
   "cell_type": "code",
   "execution_count": null,
   "outputs": [],
   "source": [
    "jug1 = ('Marta', 10, 5)\n",
    "jug2 = ('Amanda', 9, 3)\n",
    "jug3 = ('Alexia', 11, 2)\n",
    "jug4 = ('Jenni', 7, 4)\n",
    "jug5 = ('Lucia', 8, 1)\n",
    "\n",
    "registro_rendimiento = [jug1, jug2, jug3, jug4, jug5]\n",
    "def promedio_goles():\n",
    "    suma = 0\n",
    "    for i in registro_rendimiento:\n",
    "        suma += i[2]\n",
    "    promedio = suma/len(registro_rendimiento)\n",
    "    print(f'El promedio de goles de la seleccion es {promedio}')\n",
    "\n",
    "def mejor_goleadora():\n",
    "    max = 0\n",
    "    for i in registro_rendimiento:\n",
    "        if i[2] > max:\n",
    "            max = i[2]\n",
    "            jugadora = i[0]\n",
    "    print(f'La mejor goleadora de la seleccion es {jugadora} con {max} goles')\n",
    "\n",
    "def buscar_jugadora(numero):\n",
    "    for i in registro_rendimiento:\n",
    "        if i[1] == numero:\n",
    "            print(f'La jugadora con el numero {numero} es {i[0]}')\n",
    "            return\n",
    "    print(f'No hay ninguna jugadora con el numero {numero}')\n",
    "    \n",
    "promedio_goles()\n",
    "mejor_goleadora()\n",
    "buscar_jugadora(7)\n",
    "buscar_jugadora(12)"
   ],
   "metadata": {
    "collapsed": false
   },
   "id": "af93d2510cc46f6a"
  },
  {
   "cell_type": "code",
   "execution_count": 5,
   "outputs": [
    {
     "name": "stdout",
     "output_type": "stream",
     "text": [
      "Los estudiantes comunes son {123456, 55555, 66666, 77777, 88888, 99999}\n",
      "Todos los estudiantes son {123456, 55555, 22222, 77777, 44444, 99999, 11111, 66666, 33333, 88888}\n",
      "Los no comunes estudiantes son {11111, 22222, 33333, 44444}\n"
     ]
    }
   ],
   "source": [
    "grup_a = {123456,55555,66666,77777,88888,99999}\n",
    "grup_b = {123456,55555,66666,77777,88888,99999,11111,22222,33333,44444}\n",
    "\n",
    "def estudiantes_comunes():\n",
    "    comunes = grup_a.intersection(grup_b)\n",
    "    print(f'Los estudiantes comunes son {comunes}')\n",
    "\n",
    "def estudiantes_unidos():\n",
    "    u = grup_a.union(grup_b)\n",
    "    print(f'Todos los estudiantes son {u}')\n",
    "\n",
    "def estudiantes_exclusivos():\n",
    "    e = grup_a.symmetric_difference(grup_b)\n",
    "    print(f'Los no comunes estudiantes son {e}')\n",
    "\n",
    "estudiantes_comunes()\n",
    "estudiantes_unidos()\n",
    "estudiantes_exclusivos()"
   ],
   "metadata": {
    "collapsed": false,
    "ExecuteTime": {
     "end_time": "2023-09-28T11:01:29.753889Z",
     "start_time": "2023-09-28T11:01:29.730901Z"
    }
   },
   "id": "43f559214eb50ee5"
  },
  {
   "cell_type": "code",
   "execution_count": 15,
   "outputs": [
    {
     "name": "stdout",
     "output_type": "stream",
     "text": [
      "Nombre: Charizard\n",
      "Tipo: Fuego\n",
      "HP: 78\n",
      "ATK: 84\n",
      "DEF: 78\n",
      "Charizard\n",
      "Venusaur\n",
      "Pikachu\n"
     ]
    }
   ],
   "source": [
    "#Pokedex\n",
    "pokedex = {}\n",
    "\n",
    "pokedex[\"Charizard\"] = {\"tipo\": \"Fuego\", \"hp\": 78, \"atk\": 84, \"def\": 78}\n",
    "pokedex[\"Blastoise\"] = {\"tipo\": \"Agua\", \"hp\": 79, \"atk\": 83, \"def\": 100}\n",
    "pokedex[\"Venusaur\"] = {\"tipo\": \"Planta\", \"hp\": 80, \"atk\": 82, \"def\": 83}\n",
    "\n",
    "def mostrar_informacion_pokemon(nombre_pokemon):\n",
    "    pokemon = pokedex.get(nombre_pokemon)\n",
    "    if pokemon is not None:\n",
    "        print(f\"Nombre: {nombre_pokemon}\")\n",
    "        print(f\"Tipo: {pokemon['tipo']}\")\n",
    "        print(f\"HP: {pokemon['hp']}\")\n",
    "        print(f\"ATK: {pokemon['atk']}\")\n",
    "        print(f\"DEF: {pokemon['def']}\")\n",
    "    else:\n",
    "        print(f\"El Pokémon {nombre_pokemon} no existe.\")\n",
    "\n",
    "def agregar_pokemon(nombre_pokemon, tipo, hp, atk, defen):\n",
    "    pokedex[nombre_pokemon] = {\n",
    "        \"tipo\": tipo,\n",
    "        \"hp\": hp,\n",
    "        \"atk\": atk,\n",
    "        \"def\": defen,\n",
    "    }\n",
    "\n",
    "def eliminar_pokemon(nombre_pokemon):\n",
    "    del pokedex[nombre_pokemon]\n",
    "\n",
    "def monstrar_poke():\n",
    "    for nombre_pokemon in pokedex.keys():\n",
    "        print(nombre_pokemon)\n",
    "        \n",
    "mostrar_informacion_pokemon(\"Charizard\")\n",
    "agregar_pokemon(\"Pikachu\", \"Eléctrico\", 35, 50, 40)\n",
    "eliminar_pokemon(\"Blastoise\")\n",
    "monstrar_poke()"
   ],
   "metadata": {
    "collapsed": false,
    "ExecuteTime": {
     "end_time": "2023-09-28T11:07:57.936884Z",
     "start_time": "2023-09-28T11:07:57.934251Z"
    }
   },
   "id": "e26c1ebed957c87c"
  },
  {
   "cell_type": "code",
   "execution_count": 16,
   "outputs": [
    {
     "name": "stdout",
     "output_type": "stream",
     "text": [
      "Título: La Divina Comedia\n",
      "Autor: Dante Alighieri\n",
      "Año de publicación: 1308\n",
      "Título: Los Miserables\n",
      "Autor: Victor Hugo\n",
      "Año de publicación: 1862\n",
      "Título: El Quijote\n",
      "Autor: Miguel de Cervantes\n",
      "Año de publicación: 1605\n"
     ]
    }
   ],
   "source": [
    "class Libro:\n",
    "\n",
    "    def __init__(self, titulo, autor, anio_publicacion):\n",
    "        self.titulo = titulo\n",
    "        self.autor = autor\n",
    "        self.anio_publicacion = anio_publicacion\n",
    "\n",
    "    def mostrar_informacion(self):\n",
    "        print(f\"Título: {self.titulo}\")\n",
    "        print(f\"Autor: {self.autor}\")\n",
    "        print(f\"Año de publicación: {self.anio_publicacion}\")\n",
    "\n",
    "class Biblioteca:\n",
    "\n",
    "    def __init__(self, nombre):\n",
    "        self.nombre = nombre\n",
    "        self.libros_disponibles = []\n",
    "\n",
    "    def agregar_libro(self, libro):\n",
    "        self.libros_disponibles.append(libro)\n",
    "\n",
    "    def prestar_libro(self, titulo):\n",
    "        for libro in self.libros_disponibles:\n",
    "            if libro.titulo == titulo:\n",
    "                self.libros_disponibles.remove(libro)\n",
    "                return libro\n",
    "\n",
    "        return None\n",
    "\n",
    "    def devolver_libro(self, libro):\n",
    "        self.libros_disponibles.append(libro)\n",
    "\n",
    "    def mostrar_catalogo(self):\n",
    "        for libro in self.libros_disponibles:\n",
    "            libro.mostrar_informacion()\n",
    "\n",
    "mi_biblioteca = Biblioteca(\"Mi biblioteca\")\n",
    "\n",
    "libro1 = Libro(\"El Quijote\", \"Miguel de Cervantes\", 1605)\n",
    "libro2 = Libro(\"La Divina Comedia\", \"Dante Alighieri\", 1308)\n",
    "libro3 = Libro(\"Los Miserables\", \"Victor Hugo\", 1862)\n",
    "\n",
    "mi_biblioteca.agregar_libro(libro1)\n",
    "mi_biblioteca.agregar_libro(libro2)\n",
    "mi_biblioteca.agregar_libro(libro3)\n",
    "\n",
    "libro_prestado = mi_biblioteca.prestar_libro(\"El Quijote\")\n",
    "mi_biblioteca.devolver_libro(libro_prestado)\n",
    "mi_biblioteca.mostrar_catalogo()"
   ],
   "metadata": {
    "collapsed": false,
    "ExecuteTime": {
     "end_time": "2023-09-28T11:09:26.974443Z",
     "start_time": "2023-09-28T11:09:26.954624Z"
    }
   },
   "id": "59e6bf3b1815a8dd"
  },
  {
   "cell_type": "code",
   "execution_count": null,
   "outputs": [],
   "source": [],
   "metadata": {
    "collapsed": false
   },
   "id": "eb7c45b6fc4ef35"
  }
 ],
 "metadata": {
  "kernelspec": {
   "display_name": "Python 3",
   "language": "python",
   "name": "python3"
  },
  "language_info": {
   "codemirror_mode": {
    "name": "ipython",
    "version": 2
   },
   "file_extension": ".py",
   "mimetype": "text/x-python",
   "name": "python",
   "nbconvert_exporter": "python",
   "pygments_lexer": "ipython2",
   "version": "2.7.6"
  }
 },
 "nbformat": 4,
 "nbformat_minor": 5
}
